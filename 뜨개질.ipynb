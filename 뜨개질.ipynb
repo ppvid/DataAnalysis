{
 "cells": [
  {
   "cell_type": "code",
   "execution_count": null,
   "id": "93660504",
   "metadata": {},
   "outputs": [],
   "source": []
  },
  {
   "cell_type": "code",
   "execution_count": 22,
   "id": "2141ca7a",
   "metadata": {},
   "outputs": [
    {
     "name": "stdout",
     "output_type": "stream",
     "text": [
      "응답 상태코드: 500\n",
      "요청 실패: 500\n",
      " \n"
     ]
    }
   ],
   "source": [
    "import requests\n",
    "from requests.auth import HTTPBasicAuth\n",
    "\n",
    "username = \"read-3687935da6ba7c8f1fe64bb57b2ba3b9\"\n",
    "password = \"MkSU5/rFvhzGuuO36Vgo2DkP5L4AIVXmommL3gkh\"\n",
    "\n",
    "url = \"https://api.ravelry.com/patterns/search.json\"\n",
    "params = {\n",
    "    \"craft\": \"knitting\",\n",
    "    \"pc\": \"sweaters\",\n",
    "    \"page\": 1,\n",
    "    \"page_size\": 5\n",
    "}\n",
    "\n",
    "resp = requests.get(url, auth=HTTPBasicAuth(username, password), params=params)\n",
    "print(\"응답 상태코드:\", resp.status_code)\n",
    "\n",
    "if resp.status_code == 200:\n",
    "    try:\n",
    "        data = resp.json()\n",
    "        print(\"패턴 수:\", len(data[\"patterns\"]))\n",
    "        for p in data[\"patterns\"]:\n",
    "            print(f\"- {p.get('name')}\")\n",
    "    except Exception as e:\n",
    "        print(\"JSON 파싱 에러:\", e)\n",
    "        print(resp.text[:300])\n",
    "else:\n",
    "    print(\"요청 실패:\", resp.status_code)\n",
    "    print(resp.text[:300])\n"
   ]
  },
  {
   "cell_type": "code",
   "execution_count": 21,
   "id": "988a2763",
   "metadata": {},
   "outputs": [
    {
     "name": "stdout",
     "output_type": "stream",
     "text": [
      "응답 상태코드: 200\n",
      "응답 텍스트 (앞부분): {\"patterns\": [{\"free\":true,\"id\":7442084,\"name\":\"Anytime Advent Shawl\",\"permalink\":\"anytime-advent-shawl\",\"personal_attributes\":null,\"first_photo\":{\"id\":139907898,\"sort_order\":1,\"user_id\":7534287,\"x_offset\":-3,\"y_offset\":0,\"square_url\":\"https://images4-f.ravelrycache.com/uploads/Adelle275/1074031056/1000009458_square.jpg\",\"medium_url\":\"https://images4-g.ravelrycache.com/uploads/Adelle275/1074031056/1000009458_medium.jpg\",\"thumbnail_url\":\"https://images4-g.ravelrycache.com/uploads/Adelle275/107403\n",
      "dict_keys(['patterns', 'paginator'])\n"
     ]
    }
   ],
   "source": [
    "import requests, time\n",
    "from requests.auth import HTTPBasicAuth\n",
    "from collections import Counter\n",
    "\n",
    "username = \t'read-3687935da6ba7c8f1fe64bb57b2ba3b9'\n",
    "password = 'MkSU5/rFvhzGuuO36Vgo2DkP5L4AIVXmommL3gkh'\n",
    "\n",
    "langs   = Counter()\n",
    "needles = Counter()\n",
    "yarns   = Counter()\n",
    "\n",
    "url = \"https://api.ravelry.com/patterns/search.json\"\n",
    "params = {\n",
    "    \"craft\": \"knitting\",\n",
    "    \"pattern_type\": \"sweater\",\n",
    "    \"page\": 1,\n",
    "    \"page_size\": 5\n",
    "}\n",
    "\n",
    "resp = requests.get(url, auth=HTTPBasicAuth(username, password), params=params)\n",
    "\n",
    "print(\"응답 상태코드:\", resp.status_code)\n",
    "print(\"응답 텍스트 (앞부분):\", resp.text[:500])  # 너무 길면 일부만 출력\n",
    "\n",
    "# JSON으로 해석 가능할 경우\n",
    "if resp.status_code == 200:\n",
    "    try:\n",
    "        data = resp.json()\n",
    "        print(data.keys())\n",
    "    except Exception as e:\n",
    "        print(\"JSON 파싱 에러:\", e)\n",
    "\n"
   ]
  },
  {
   "cell_type": "code",
   "execution_count": null,
   "id": "7bd24f35",
   "metadata": {},
   "outputs": [
    {
     "data": {
      "text/html": [
       "<div>\n",
       "<style scoped>\n",
       "    .dataframe tbody tr th:only-of-type {\n",
       "        vertical-align: middle;\n",
       "    }\n",
       "\n",
       "    .dataframe tbody tr th {\n",
       "        vertical-align: top;\n",
       "    }\n",
       "\n",
       "    .dataframe thead th {\n",
       "        text-align: right;\n",
       "    }\n",
       "</style>\n",
       "<table border=\"1\" class=\"dataframe\">\n",
       "  <thead>\n",
       "    <tr style=\"text-align: right;\">\n",
       "      <th></th>\n",
       "      <th>Language</th>\n",
       "      <th>Count</th>\n",
       "    </tr>\n",
       "  </thead>\n",
       "  <tbody>\n",
       "  </tbody>\n",
       "</table>\n",
       "</div>"
      ],
      "text/plain": [
       "Empty DataFrame\n",
       "Columns: [Language, Count]\n",
       "Index: []"
      ]
     },
     "metadata": {},
     "output_type": "display_data"
    },
    {
     "data": {
      "text/html": [
       "<div>\n",
       "<style scoped>\n",
       "    .dataframe tbody tr th:only-of-type {\n",
       "        vertical-align: middle;\n",
       "    }\n",
       "\n",
       "    .dataframe tbody tr th {\n",
       "        vertical-align: top;\n",
       "    }\n",
       "\n",
       "    .dataframe thead th {\n",
       "        text-align: right;\n",
       "    }\n",
       "</style>\n",
       "<table border=\"1\" class=\"dataframe\">\n",
       "  <thead>\n",
       "    <tr style=\"text-align: right;\">\n",
       "      <th></th>\n",
       "      <th>Needle Size</th>\n",
       "      <th>Count</th>\n",
       "    </tr>\n",
       "  </thead>\n",
       "  <tbody>\n",
       "  </tbody>\n",
       "</table>\n",
       "</div>"
      ],
      "text/plain": [
       "Empty DataFrame\n",
       "Columns: [Needle Size, Count]\n",
       "Index: []"
      ]
     },
     "metadata": {},
     "output_type": "display_data"
    },
    {
     "data": {
      "text/html": [
       "<div>\n",
       "<style scoped>\n",
       "    .dataframe tbody tr th:only-of-type {\n",
       "        vertical-align: middle;\n",
       "    }\n",
       "\n",
       "    .dataframe tbody tr th {\n",
       "        vertical-align: top;\n",
       "    }\n",
       "\n",
       "    .dataframe thead th {\n",
       "        text-align: right;\n",
       "    }\n",
       "</style>\n",
       "<table border=\"1\" class=\"dataframe\">\n",
       "  <thead>\n",
       "    <tr style=\"text-align: right;\">\n",
       "      <th></th>\n",
       "      <th>Yarn Weight</th>\n",
       "      <th>Count</th>\n",
       "    </tr>\n",
       "  </thead>\n",
       "  <tbody>\n",
       "  </tbody>\n",
       "</table>\n",
       "</div>"
      ],
      "text/plain": [
       "Empty DataFrame\n",
       "Columns: [Yarn Weight, Count]\n",
       "Index: []"
      ]
     },
     "metadata": {},
     "output_type": "display_data"
    }
   ],
   "source": [
    "import pandas as pd\n",
    "\n",
    "# 결과 요약\n",
    "df_langs = pd.DataFrame(langs.items(), columns=[\"Language\", \"Count\"]).sort_values(by=\"Count\", ascending=False)\n",
    "df_needles = pd.DataFrame(needles.items(), columns=[\"Needle Size\", \"Count\"]).sort_values(by=\"Count\", ascending=False)\n",
    "df_yarns = pd.DataFrame(yarn_types.items(), columns=[\"Yarn Weight\", \"Count\"]).sort_values(by=\"Count\", ascending=False)\n",
    "\n",
    "# 저장 예시\n",
    "display(df_langs)\n",
    "display(df_needles)\n",
    "display(df_yarns)\n"
   ]
  }
 ],
 "metadata": {
  "kernelspec": {
   "display_name": "base",
   "language": "python",
   "name": "python3"
  },
  "language_info": {
   "codemirror_mode": {
    "name": "ipython",
    "version": 3
   },
   "file_extension": ".py",
   "mimetype": "text/x-python",
   "name": "python",
   "nbconvert_exporter": "python",
   "pygments_lexer": "ipython3",
   "version": "3.12.7"
  }
 },
 "nbformat": 4,
 "nbformat_minor": 5
}
