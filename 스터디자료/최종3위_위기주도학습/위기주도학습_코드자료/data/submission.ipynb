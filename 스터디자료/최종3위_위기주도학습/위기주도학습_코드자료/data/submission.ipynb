{
 "cells": [
  {
   "cell_type": "code",
   "execution_count": 1,
   "id": "8fe55c60-5468-43f2-99af-68db2c9e57a8",
   "metadata": {
    "tags": []
   },
   "outputs": [
    {
     "name": "stdout",
     "output_type": "stream",
     "text": [
      "Requirement already satisfied: catboost in c:\\users\\donggyu\\miniconda3\\envs\\new1\\lib\\site-packages (1.1.1)\n",
      "Requirement already satisfied: pandas>=0.24.0 in c:\\users\\donggyu\\miniconda3\\envs\\new1\\lib\\site-packages (from catboost) (1.3.5)\n",
      "Requirement already satisfied: scipy in c:\\users\\donggyu\\miniconda3\\envs\\new1\\lib\\site-packages (from catboost) (1.7.3)\n",
      "Requirement already satisfied: six in c:\\users\\donggyu\\miniconda3\\envs\\new1\\lib\\site-packages (from catboost) (1.16.0)\n",
      "Requirement already satisfied: plotly in c:\\users\\donggyu\\miniconda3\\envs\\new1\\lib\\site-packages (from catboost) (5.13.1)\n",
      "Requirement already satisfied: graphviz in c:\\users\\donggyu\\miniconda3\\envs\\new1\\lib\\site-packages (from catboost) (0.20.1)\n",
      "Requirement already satisfied: numpy>=1.16.0 in c:\\users\\donggyu\\miniconda3\\envs\\new1\\lib\\site-packages (from catboost) (1.21.6)\n",
      "Requirement already satisfied: matplotlib in c:\\users\\donggyu\\miniconda3\\envs\\new1\\lib\\site-packages (from catboost) (3.5.3)\n",
      "Requirement already satisfied: pytz>=2017.3 in c:\\users\\donggyu\\miniconda3\\envs\\new1\\lib\\site-packages (from pandas>=0.24.0->catboost) (2023.2)\n",
      "Requirement already satisfied: python-dateutil>=2.7.3 in c:\\users\\donggyu\\miniconda3\\envs\\new1\\lib\\site-packages (from pandas>=0.24.0->catboost) (2.8.2)\n",
      "Requirement already satisfied: kiwisolver>=1.0.1 in c:\\users\\donggyu\\miniconda3\\envs\\new1\\lib\\site-packages (from matplotlib->catboost) (1.4.4)\n",
      "Requirement already satisfied: pillow>=6.2.0 in c:\\users\\donggyu\\miniconda3\\envs\\new1\\lib\\site-packages (from matplotlib->catboost) (9.4.0)\n",
      "Requirement already satisfied: cycler>=0.10 in c:\\users\\donggyu\\miniconda3\\envs\\new1\\lib\\site-packages (from matplotlib->catboost) (0.11.0)\n",
      "Requirement already satisfied: fonttools>=4.22.0 in c:\\users\\donggyu\\miniconda3\\envs\\new1\\lib\\site-packages (from matplotlib->catboost) (4.38.0)\n",
      "Requirement already satisfied: packaging>=20.0 in c:\\users\\donggyu\\miniconda3\\envs\\new1\\lib\\site-packages (from matplotlib->catboost) (23.0)\n",
      "Requirement already satisfied: pyparsing>=2.2.1 in c:\\users\\donggyu\\miniconda3\\envs\\new1\\lib\\site-packages (from matplotlib->catboost) (3.0.9)\n",
      "Requirement already satisfied: tenacity>=6.2.0 in c:\\users\\donggyu\\miniconda3\\envs\\new1\\lib\\site-packages (from plotly->catboost) (8.2.2)\n",
      "Requirement already satisfied: typing-extensions in c:\\users\\donggyu\\miniconda3\\envs\\new1\\lib\\site-packages (from kiwisolver>=1.0.1->matplotlib->catboost) (4.5.0)\n",
      "Requirement already satisfied: scikit-learn in c:\\users\\donggyu\\miniconda3\\envs\\new1\\lib\\site-packages (1.0.2)\n",
      "Requirement already satisfied: numpy>=1.14.6 in c:\\users\\donggyu\\miniconda3\\envs\\new1\\lib\\site-packages (from scikit-learn) (1.21.6)\n",
      "Requirement already satisfied: threadpoolctl>=2.0.0 in c:\\users\\donggyu\\miniconda3\\envs\\new1\\lib\\site-packages (from scikit-learn) (3.1.0)\n",
      "Requirement already satisfied: scipy>=1.1.0 in c:\\users\\donggyu\\miniconda3\\envs\\new1\\lib\\site-packages (from scikit-learn) (1.7.3)\n",
      "Requirement already satisfied: joblib>=0.11 in c:\\users\\donggyu\\miniconda3\\envs\\new1\\lib\\site-packages (from scikit-learn) (1.2.0)\n",
      "Requirement already satisfied: numpy in c:\\users\\donggyu\\miniconda3\\envs\\new1\\lib\\site-packages (1.21.6)\n",
      "Requirement already satisfied: pandas in c:\\users\\donggyu\\miniconda3\\envs\\new1\\lib\\site-packages (1.3.5)\n",
      "Requirement already satisfied: pytz>=2017.3 in c:\\users\\donggyu\\miniconda3\\envs\\new1\\lib\\site-packages (from pandas) (2023.2)\n",
      "Requirement already satisfied: python-dateutil>=2.7.3 in c:\\users\\donggyu\\miniconda3\\envs\\new1\\lib\\site-packages (from pandas) (2.8.2)\n",
      "Requirement already satisfied: numpy>=1.17.3 in c:\\users\\donggyu\\miniconda3\\envs\\new1\\lib\\site-packages (from pandas) (1.21.6)\n",
      "Requirement already satisfied: six>=1.5 in c:\\users\\donggyu\\miniconda3\\envs\\new1\\lib\\site-packages (from python-dateutil>=2.7.3->pandas) (1.16.0)\n"
     ]
    }
   ],
   "source": [
    "# -*- coding: utf-8 -*-\n",
    "!pip install catboost\n",
    "!pip install -U scikit-learn\n",
    "!pip install numpy\n",
    "!pip install pandas"
   ]
  },
  {
   "cell_type": "code",
   "execution_count": 2,
   "id": "6ca57475-a6ed-499c-bcca-0030ff55a9c2",
   "metadata": {
    "tags": []
   },
   "outputs": [],
   "source": [
    "import os\n",
    "import random\n",
    "import pandas as pd\n",
    "import numpy as np\n",
    "import sklearn\n",
    "import catboost\n",
    "\n",
    "from sklearn.preprocessing import LabelEncoder\n",
    "from sklearn.metrics import f1_score\n",
    "from datetime import datetime\n",
    "import time\n",
    "\n",
    "start_time = time.perf_counter()\n",
    "\n",
    "def seed_everything(seed):\n",
    "    random.seed(seed)\n",
    "    os.environ['PYTHONHASHSEED'] = str(seed)\n",
    "    np.random.seed(seed)\n",
    "seed_everything(37) # Seed 고정"
   ]
  },
  {
   "cell_type": "code",
   "execution_count": 3,
   "id": "cff11e09-beae-4f4d-a5dd-f51b6e220bc2",
   "metadata": {
    "tags": []
   },
   "outputs": [],
   "source": [
    "train_df = pd.read_csv('./train.csv')\n",
    "test_df = pd.read_csv('./test.csv')"
   ]
  },
  {
   "cell_type": "code",
   "execution_count": 4,
   "id": "08028867-95b7-497f-abe6-372bbb2172df",
   "metadata": {
    "tags": []
   },
   "outputs": [],
   "source": [
    "#전부 NAN값인 피쳐 제거\n",
    "a=[]\n",
    "A = pd.DataFrame(train_df.isnull().sum(),columns=['sum'])\n",
    "a = list(A[A['sum']==train_df.shape[0]].index)\n",
    "train_df.drop(columns=a,inplace=True)\n",
    "test_df.drop(columns=a, inplace=True)\n",
    "\n",
    "#분산이 1인 피쳐 제거거\n",
    "a=[]\n",
    "for c in train_df.columns:\n",
    "  if  train_df[c].nunique()==1:\n",
    "    a.append(c)\n",
    "train_df.drop(columns=a, inplace=True)\n",
    "test_df.drop(columns=a, inplace=True)"
   ]
  },
  {
   "cell_type": "code",
   "execution_count": 5,
   "id": "1b95ed78-efe0-46dd-981a-bb66c80c172f",
   "metadata": {
    "tags": []
   },
   "outputs": [],
   "source": [
    "# 새로생긴 피쳐\n",
    "new_features = train_df.columns[-351:]"
   ]
  },
  {
   "cell_type": "code",
   "execution_count": 6,
   "id": "cc90c6ab-6c20-422d-837a-04fffa143303",
   "metadata": {
    "tags": []
   },
   "outputs": [],
   "source": [
    "#같은 라인에서 같은 열에 값을 가지는 행들을 그룹\n",
    "groups_lines=train_df.groupby('LINE')\n",
    "line=0\n",
    "for name, group in groups_lines:\n",
    "    line+=1\n",
    "    globals()['group_line{}_df'.format(line)] = groups_lines.get_group(name)\n",
    "non_null_counts_3 = group_line3_df.notnull().sum()\n",
    "non_null_cols_3 = non_null_counts_3[non_null_counts_3 > 0].index.tolist()\n",
    "\n",
    "grouped3 = group_line3_df.groupby(group_line3_df.isnull().apply(tuple, axis=1))\n",
    "cnt=0\n",
    "for name, group in grouped3:\n",
    "    cnt+=1\n",
    "    globals()['line3_{}_df'.format(cnt)] = grouped3.get_group(name)\n",
    "for i in range(1,cnt+1):\n",
    "  globals()['non_null_cols3_{}'.format(i)] = globals()['line3_{}_df'.format(i)].columns[globals()['line3_{}_df'.format(i)].notnull().all()].tolist()\n",
    "  del globals()['non_null_cols3_{}'.format(i)][globals()['non_null_cols3_{}'.format(i)].index('PRODUCT_ID')]\n",
    "\n",
    "grouped4 = group_line4_df.groupby(group_line4_df.isnull().apply(tuple, axis=1))\n",
    "cnt=0\n",
    "for name, group in grouped4:\n",
    "    cnt+=1\n",
    "    globals()['line4_{}_df'.format(cnt)] = grouped4.get_group(name)\n",
    "for i in range(1,cnt+1):\n",
    "  globals()['non_null_cols4_{}'.format(i)] = globals()['line4_{}_df'.format(i)].columns[globals()['line4_{}_df'.format(i)].notnull().all()].tolist()\n",
    "  del globals()['non_null_cols4_{}'.format(i)][globals()['non_null_cols4_{}'.format(i)].index('PRODUCT_ID')]\n",
    "\n",
    "non_null_counts_5 = group_line5_df.notnull().sum()\n",
    "non_null_cols_5 = non_null_counts_5[non_null_counts_5 > 0].index.tolist()\n",
    "\n",
    "grouped5 = group_line5_df.groupby(group_line5_df.isnull().apply(tuple, axis=1))\n",
    "cnt=0\n",
    "for name, group in grouped5:\n",
    "    cnt+=1\n",
    "    globals()['line5_{}_df'.format(cnt)] = grouped5.get_group(name)\n",
    "for i in range(1,cnt+1):\n",
    "  globals()['non_null_cols5_{}'.format(i)] = globals()['line5_{}_df'.format(i)].columns[globals()['line5_{}_df'.format(i)].notnull().all()].tolist()\n",
    "  del globals()['non_null_cols5_{}'.format(i)][globals()['non_null_cols5_{}'.format(i)].index('PRODUCT_ID')]\n",
    "\n",
    "grouped6 = group_line6_df.groupby(group_line6_df.isnull().apply(tuple, axis=1))\n",
    "cnt=0\n",
    "for name, group in grouped6:\n",
    "    cnt+=1\n",
    "    globals()['line6_{}_df'.format(cnt)] = grouped6.get_group(name)\n",
    "for i in range(1,cnt+1):\n",
    "  globals()['non_null_cols6_{}'.format(i)] = globals()['line6_{}_df'.format(i)].columns[globals()['line6_{}_df'.format(i)].notnull().all()].tolist()\n",
    "  del globals()['non_null_cols6_{}'.format(i)][globals()['non_null_cols6_{}'.format(i)].index('PRODUCT_ID')]"
   ]
  },
  {
   "cell_type": "code",
   "execution_count": 7,
   "id": "5b78748d-2dd0-4ba3-8fb1-7a2c1916eb32",
   "metadata": {
    "tags": []
   },
   "outputs": [
    {
     "name": "stdout",
     "output_type": "stream",
     "text": [
      "2794\n",
      "1778\n",
      "553\n",
      "368\n"
     ]
    }
   ],
   "source": [
    "#1, 2번 라인의 피쳐들\n",
    "col_12 = train_df.columns.tolist()\n",
    "col_12.remove('PRODUCT_ID')\n",
    "print(len(col_12))\n",
    "#################################\n",
    "# 3,4 번 라인의 피쳐들\n",
    "#col_34 = list(set(non_null_cols3_3+non_null_cols4_1))\n",
    "col_34 =[]\n",
    "for j in non_null_cols3_3:\n",
    "    if j not in col_34:\n",
    "        col_34.append(j)\n",
    "for j in non_null_cols4_1:\n",
    "    if j not in col_34:\n",
    "        col_34.append(j)\n",
    "col_34.append('X_2871')\n",
    "print(len(col_34))\n",
    "#####################################\n",
    "# 5,6 번 라인의 피쳐들(그룹 1)\n",
    "col_5 = set(non_null_cols5_1).intersection(set(non_null_cols5_2), set(non_null_cols5_3),set(non_null_cols5_4),set(non_null_cols5_5))\n",
    "col_6 = set(non_null_cols6_1).intersection(set(non_null_cols6_2), set(non_null_cols6_3),set(non_null_cols6_4))\n",
    "line_5 = [x for x in non_null_cols5_1 if x in col_5]\n",
    "line_6 = [x for x in non_null_cols6_1 if x in col_6]\n",
    "\n",
    "col_56_1 =[]\n",
    "for j in line_5:\n",
    "    if j not in col_56_1:\n",
    "        col_56_1.append(j)\n",
    "for j in line_6:\n",
    "    if j not in col_56_1:\n",
    "        col_56_1.append(j)\n",
    "print(len(col_56_1))\n",
    "#########################################\n",
    "# 5,6 번 라인의 피쳐들(그룹 2)\n",
    "col_5 = set(non_null_cols5_7).intersection(set(non_null_cols5_8), set(non_null_cols5_9),set(non_null_cols5_10),set(non_null_cols5_11))\n",
    "col_6 = set(non_null_cols6_5).intersection(set(non_null_cols6_6),set(non_null_cols6_6),set(non_null_cols6_8),set(non_null_cols6_9))\n",
    "line_5 = [x for x in non_null_cols5_7 if x in col_5]\n",
    "line_6 = [x for x in non_null_cols6_5 if x in col_6]\n",
    "\n",
    "col_56_2 =[]\n",
    "for j in line_5:\n",
    "    if j not in col_56_2:\n",
    "        col_56_2.append(j)\n",
    "for j in line_6:\n",
    "    if j not in col_56_2:\n",
    "        col_56_2.append(j)\n",
    "print(len(col_56_2))"
   ]
  },
  {
   "cell_type": "code",
   "execution_count": 8,
   "id": "a934656f-aad5-45d7-bcf5-734d81f2c175",
   "metadata": {
    "tags": []
   },
   "outputs": [],
   "source": [
    "#1,2 번 라인 피쳐들, 학습에 사용할 df 처리\n",
    "col_12_train = col_12\n",
    "train_x = train_df[col_12_train]\n",
    "col_12_test = col_12\n",
    "del col_12_test[col_12_test.index('Y_Quality')]\n",
    "del col_12_test[col_12_test.index('Y_Class')]\n",
    "test_x = test_df[col_12_test]\n",
    "train_x12 = train_x[train_x['LINE'].isin(['T010305','T010306'])]\n",
    "test_x12 = test_x[test_x['LINE'].isin(['T010305','T010306'])]\n",
    "#################################################################\n",
    "#3,4 번 라인 피쳐들, 학습에 사용할 df 처리\n",
    "col_34_train = col_34\n",
    "train_x = train_df[col_34_train]\n",
    "col_34_test = col_34\n",
    "del col_34_test[col_34_test.index('Y_Quality')]\n",
    "del col_34_test[col_34_test.index('Y_Class')]\n",
    "test_x = test_df[col_34_test]\n",
    "\n",
    "train_x34 = train_x[train_x['LINE'].isin(['T050304','T050307'])]\n",
    "test_x34 = test_x[test_x['LINE'].isin(['T050304','T050307'])]\n",
    "##################################################################\n",
    "#5,6 번 라인(그룹1) 피쳐들, 학습에 사용할 df 처리\n",
    "col_56_1_train = col_56_1\n",
    "train_x = train_df[col_56_1_train]\n",
    "col_56_1_test = col_56_1\n",
    "del col_56_1_test[col_56_1_test.index('Y_Quality')]\n",
    "del col_56_1_test[col_56_1_test.index('Y_Class')]\n",
    "test_x = test_df[col_56_1_test]\n",
    "\n",
    "train_x56_1 = train_x[train_x['LINE'].isin(['T100304','T100306'])]\n",
    "test_x56_1 = test_x[test_x['LINE'].isin(['T100304','T100306'])]\n",
    "######################################################################\n",
    "#5,6 번 라인(그룹2) 피쳐들, 학습에 사용할 df 처리\n",
    "col_56_2_train = col_56_2\n",
    "train_x = train_df[col_56_2_train]\n",
    "col_56_2_test = col_56_2\n",
    "del col_56_2_test[col_56_2_test.index('Y_Quality')]\n",
    "del col_56_2_test[col_56_2_test.index('Y_Class')]\n",
    "test_x = test_df[col_56_2_test]\n",
    "\n",
    "train_x56_2 = train_x[train_x['LINE'].isin(['T100304','T100306'])]\n",
    "test_x56_2 = test_x[test_x['LINE'].isin(['T100304','T100306'])]"
   ]
  },
  {
   "cell_type": "code",
   "execution_count": 9,
   "id": "806cdf75-7cc1-4509-8221-16f2675c8411",
   "metadata": {
    "tags": []
   },
   "outputs": [],
   "source": [
    "# LINE과 PRODUCT CODE 라벨링\n",
    "train_x = train_df.drop(columns=['PRODUCT_ID'])\n",
    "test_x = test_df.drop(columns=['PRODUCT_ID'])\n",
    "\n",
    "qual_col = ['LINE', 'PRODUCT_CODE']\n",
    "for i in qual_col:\n",
    "    le = LabelEncoder()\n",
    "    le = le.fit(train_x[i])\n",
    "    train_x[i] = le.transform(train_x[i])\n",
    "    \n",
    "    for label in np.unique(test_x[i]): \n",
    "        if label not in le.classes_: \n",
    "            le.classes_ = np.append(le.classes_, label)\n",
    "    test_x[i] = le.transform(test_x[i]) \n",
    "\n",
    "train_y = train_x['Y_Quality']\n",
    "train_yy = train_x['Y_Class']\n",
    "train_x.drop(columns=['Y_Quality','Y_Class'],inplace=True)"
   ]
  },
  {
   "cell_type": "code",
   "execution_count": 10,
   "id": "ea2ad6c1-5469-4628-838f-d69c98e7d202",
   "metadata": {
    "tags": []
   },
   "outputs": [],
   "source": [
    "# 5번과 6번라인의 두개의 그룹으로 데이터를 나눔\n",
    "train_x56 = train_x[(train_x['LINE'] == 4) | (train_x['LINE'] == 5)]\n",
    "col56_1_index=[]\n",
    "col56_2_index=[]\n",
    "for i in range(0,train_x56[new_features].shape[0]):\n",
    "    if train_x56[new_features].iloc[i].sum() == 0:\n",
    "        col56_1_index.append(i)\n",
    "    else:\n",
    "        col56_2_index.append(i)\n",
    "train_x56_1 = train_x56_1.iloc[col56_1_index]\n",
    "train_x56_2 = train_x56_2.iloc[col56_2_index]"
   ]
  },
  {
   "cell_type": "code",
   "execution_count": 11,
   "id": "5fe4e951-f0ba-467b-801f-12b7cf17ccc9",
   "metadata": {
    "tags": []
   },
   "outputs": [],
   "source": [
    "#학습에 사용할 DF 처리\n",
    "a=[]\n",
    "A = pd.DataFrame(train_x12.isnull().sum(),columns=['sum'])\n",
    "a = list(A[A['sum']==train_x12.shape[0]].index)\n",
    "train_x12.drop(columns=a,inplace=True)\n",
    "drop_col_12 = a\n",
    "\n",
    "yy_train12 = train_x12['Y_Class']\n",
    "y_train12 = train_x12['Y_Quality']\n",
    "train_x12 = train_x12.drop(columns=['Y_Class', 'Y_Quality','LINE','PRODUCT_CODE'])\n",
    "test_x12= test_x12.drop(columns=['LINE','PRODUCT_CODE'])\n",
    "########################################################\n",
    "\n",
    "yy_train34 = train_x34['Y_Class']\n",
    "y_train34 = train_x34['Y_Quality']\n",
    "train_x34 = train_x34.drop(columns=['Y_Class', 'Y_Quality','LINE','PRODUCT_CODE'])\n",
    "test_x34 = test_x34.drop(columns=['LINE','PRODUCT_CODE'])\n",
    "############################################################\n",
    "\n",
    "yy_train56_1 = train_x56_1['Y_Class']\n",
    "y_train56_1 = train_x56_1['Y_Quality']\n",
    "train_x56_1 = train_x56_1.drop(columns=['Y_Class', 'Y_Quality','LINE','PRODUCT_CODE'])\n",
    "test_x56_1 = test_x56_1.drop(columns=['LINE','PRODUCT_CODE'])\n",
    "############################################################\n",
    "\n",
    "yy_train56_2 = train_x56_2['Y_Class']\n",
    "y_train56_2 = train_x56_2['Y_Quality']\n",
    "train_x56_2 = train_x56_2.drop(columns=['Y_Class', 'Y_Quality','LINE','PRODUCT_CODE'])\n",
    "test_x56_2 = test_x56_2.drop(columns=['LINE','PRODUCT_CODE'])"
   ]
  },
  {
   "cell_type": "code",
   "execution_count": 12,
   "id": "e9f9337f-f20a-4104-83f4-7a57e59c4c64",
   "metadata": {
    "tags": []
   },
   "outputs": [
    {
     "data": {
      "text/plain": [
       "<catboost.core.CatBoostRegressor at 0x29891ac44c8>"
      ]
     },
     "execution_count": 12,
     "metadata": {},
     "output_type": "execute_result"
    }
   ],
   "source": [
    "# 총 4개의 모델 학습 (1,2 번라인),(3,4번라인),(5,6번 라인_그룹1),(5,6번 라인_그룹2)\n",
    "reg = catboost.CatBoostRegressor(random_seed=37, learning_rate=0.05, verbose=0)\n",
    "reg.fit(train_x12, y_train12, early_stopping_rounds=100)\n",
    "\n",
    "clf34 = catboost.CatBoostRegressor(random_seed=37, learning_rate=0.05, verbose=0)\n",
    "clf34.fit(train_x34, y_train34, early_stopping_rounds=100)\n",
    "\n",
    "clf56_1 = catboost.CatBoostRegressor(random_seed=37, learning_rate=0.05, verbose=0)\n",
    "clf56_1.fit(train_x56_1, y_train56_1, early_stopping_rounds=100)\n",
    "\n",
    "clf56_2 = catboost.CatBoostRegressor(random_seed=37, learning_rate=0.05, verbose=0)\n",
    "clf56_2.fit(train_x56_2, y_train56_2, early_stopping_rounds=100)"
   ]
  },
  {
   "cell_type": "code",
   "execution_count": null,
   "id": "708443dd-4b7b-4f03-8ca8-db29020b8dbe",
   "metadata": {
    "tags": []
   },
   "outputs": [],
   "source": [
    "import math\n",
    "preds = []\n",
    "# 회귀로 구한 값을 다시 Y_Class로 분류하기 위해서 통계를 냄\n",
    "a = train_df[['Y_Class','Y_Quality']].groupby('Y_Class').agg(['mean', 'min', 'max', 'count'])\n",
    "\n",
    "#test데이터를 한 행씩 읽어온다. \n",
    "for i in range(test_x.shape[0]):\n",
    "  s = test_x.iloc[i,:]\n",
    "  df_s = s.to_frame().transpose()\n",
    "  df_s['LINE'] = int(df_s['LINE'])\n",
    "# 읽어온 한 줄의 test 데이터가 어떤 LINE에 속하는지에 따라 다른 모델을 적용한다. \n",
    "  if int(s['LINE'])==0 or int(s['LINE'])==1 : #1,2번 line\n",
    "      df_s = df_s[col_12_test]\n",
    "      df_s = df_s.drop(columns=['LINE','PRODUCT_CODE'])\n",
    "      df_s = df_s.drop(columns=drop_col_12)\n",
    "      temp = reg.predict(df_s)\n",
    "      if temp<=a[('Y_Quality','min')][1]:\n",
    "          preds.append(0)\n",
    "      elif temp<=a[('Y_Quality','max')][1]:\n",
    "          preds.append(1)\n",
    "      else:                                                                                                                                                                                                                                                                                                                                                                        \n",
    "          preds.append(2)\n",
    "  elif int(s['LINE'])==2 or int(s['LINE'])==3 :\n",
    "      df_s = df_s[col_34_test]\n",
    "      df_s = df_s.drop(columns=['LINE','PRODUCT_CODE'])\n",
    "      temp = clf34.predict(df_s)\n",
    "      if temp<=a[('Y_Quality','min')][1]:\n",
    "          preds.append(0)\n",
    "      elif temp<=a[('Y_Quality','max')][1]:\n",
    "          preds.append(1)\n",
    "      else:\n",
    "          preds.append(2)\n",
    "  elif int(s['LINE'])==4 or int(s['LINE'])==5 :\n",
    "      if df_s[new_features].sum().sum() == 0:\n",
    "          df_s = df_s[col_56_1_test]\n",
    "          df_s = df_s.drop(columns=['LINE','PRODUCT_CODE'])\n",
    "          temp = clf56_1.predict(df_s)\n",
    "          if temp<=a[('Y_Quality','min')][1]:\n",
    "              preds.append(0)\n",
    "          elif temp<=a[('Y_Quality','max')][1]:\n",
    "              preds.append(1)\n",
    "          else:\n",
    "              preds.append(2)\n",
    "      else:\n",
    "          df_s = df_s[col_56_2_test]\n",
    "          df_s = df_s.drop(columns=['LINE','PRODUCT_CODE'])\n",
    "          temp = clf56_2.predict(df_s)\n",
    "          if temp<=a[('Y_Quality','min')][1]:\n",
    "              preds.append(0)\n",
    "          elif temp<=a[('Y_Quality','max')][1]:\n",
    "              preds.append(1)\n",
    "          else:\n",
    "              preds.append(2)"
   ]
  },
  {
   "cell_type": "code",
   "execution_count": null,
   "id": "abd8790f-1969-437b-8f73-507e231fa36f",
   "metadata": {
    "tags": []
   },
   "outputs": [],
   "source": [
    "submit = pd.read_csv('./sample_submission.csv')\n",
    "submit['Y_Class'] = preds\n",
    "submit.to_csv('./sample_submission.csv', index=False)\n",
    "\n",
    "end_time = time.perf_counter()\n",
    "elapsed_time = end_time - start_time\n",
    "print(f\"코드 실행 시간: {elapsed_time:.4f}초\")"
   ]
  },
  {
   "cell_type": "code",
   "execution_count": null,
   "id": "f132e19a",
   "metadata": {},
   "outputs": [],
   "source": []
  }
 ],
 "metadata": {
  "kernelspec": {
   "display_name": "Python 3 (ipykernel)",
   "language": "python",
   "name": "python3"
  },
  "language_info": {
   "codemirror_mode": {
    "name": "ipython",
    "version": 3
   },
   "file_extension": ".py",
   "mimetype": "text/x-python",
   "name": "python",
   "nbconvert_exporter": "python",
   "pygments_lexer": "ipython3",
   "version": "3.7.16"
  }
 },
 "nbformat": 4,
 "nbformat_minor": 5
}
