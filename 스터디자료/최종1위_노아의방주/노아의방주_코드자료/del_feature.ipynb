{
 "cells": [
  {
   "cell_type": "code",
   "execution_count": null,
   "id": "a3372909-b516-419c-9c12-409c3a3cc61e",
   "metadata": {
    "execution": {
     "iopub.execute_input": "2023-03-25T10:05:51.120987Z",
     "iopub.status.busy": "2023-03-25T10:05:51.120461Z",
     "iopub.status.idle": "2023-03-25T10:06:02.018759Z",
     "shell.execute_reply": "2023-03-25T10:06:02.018132Z",
     "shell.execute_reply.started": "2023-03-25T10:05:51.120963Z"
    }
   },
   "outputs": [],
   "source": [
    "pip install catboost"
   ]
  },
  {
   "cell_type": "code",
   "execution_count": 2,
   "id": "2d0fa9f3-7ff0-443a-985a-f8e1a337944b",
   "metadata": {
    "execution": {
     "iopub.execute_input": "2023-03-25T10:06:02.020087Z",
     "iopub.status.busy": "2023-03-25T10:06:02.019898Z",
     "iopub.status.idle": "2023-03-25T10:06:03.021505Z",
     "shell.execute_reply": "2023-03-25T10:06:03.020942Z",
     "shell.execute_reply.started": "2023-03-25T10:06:02.020069Z"
    }
   },
   "outputs": [],
   "source": [
    "import pandas as pd\n",
    "import random\n",
    "import os\n",
    "import numpy as np\n",
    "\n",
    "from matplotlib import pyplot as plt\n",
    "import seaborn as sns\n",
    "%matplotlib inline"
   ]
  },
  {
   "cell_type": "code",
   "execution_count": 3,
   "id": "df534df6-5c5d-4b13-ad48-90924c093122",
   "metadata": {
    "execution": {
     "iopub.execute_input": "2023-03-25T10:06:03.022734Z",
     "iopub.status.busy": "2023-03-25T10:06:03.022477Z",
     "iopub.status.idle": "2023-03-25T10:06:03.572405Z",
     "shell.execute_reply": "2023-03-25T10:06:03.571861Z",
     "shell.execute_reply.started": "2023-03-25T10:06:03.022716Z"
    }
   },
   "outputs": [],
   "source": [
    "train = pd.read_csv('./dataset/train.csv')\n",
    "test = pd.read_csv('./dataset/test.csv')"
   ]
  },
  {
   "cell_type": "code",
   "execution_count": 4,
   "id": "4bff85dc-fc96-4e62-9786-ec5c890dc920",
   "metadata": {
    "execution": {
     "iopub.execute_input": "2023-03-25T10:06:03.573773Z",
     "iopub.status.busy": "2023-03-25T10:06:03.573584Z",
     "iopub.status.idle": "2023-03-25T10:06:03.603504Z",
     "shell.execute_reply": "2023-03-25T10:06:03.602925Z",
     "shell.execute_reply.started": "2023-03-25T10:06:03.573757Z"
    }
   },
   "outputs": [],
   "source": [
    "train = train.drop(['PRODUCT_ID', 'Y_Quality'], axis = 1)\n",
    "test = test.drop(['PRODUCT_ID'], axis = 1)"
   ]
  },
  {
   "cell_type": "code",
   "execution_count": 5,
   "id": "a47f25fc-48d5-4eba-abcc-7412e5613dae",
   "metadata": {
    "execution": {
     "iopub.execute_input": "2023-03-25T10:06:03.604590Z",
     "iopub.status.busy": "2023-03-25T10:06:03.604405Z",
     "iopub.status.idle": "2023-03-25T10:06:03.734831Z",
     "shell.execute_reply": "2023-03-25T10:06:03.734312Z",
     "shell.execute_reply.started": "2023-03-25T10:06:03.604574Z"
    }
   },
   "outputs": [],
   "source": [
    "from sklearn.preprocessing import LabelEncoder\n",
    "\n",
    "le = LabelEncoder()\n",
    "le.fit(train['LINE'])\n",
    "train['LINE'] = le.transform(train['LINE'])\n",
    "test['LINE'] = le.transform(test['LINE'])\n",
    "\n",
    "le.fit(train['PRODUCT_CODE'])\n",
    "train['PRODUCT_CODE'] = le.transform(train['PRODUCT_CODE'])\n",
    "test['PRODUCT_CODE'] = le.transform(test['PRODUCT_CODE'])"
   ]
  },
  {
   "cell_type": "code",
   "execution_count": 24,
   "id": "5a5f4796-1d16-4372-8bdf-def6030460b7",
   "metadata": {
    "execution": {
     "iopub.execute_input": "2023-03-25T08:41:59.972210Z",
     "iopub.status.busy": "2023-03-25T08:41:59.971435Z",
     "iopub.status.idle": "2023-03-25T09:42:45.767256Z",
     "shell.execute_reply": "2023-03-25T09:42:45.766026Z",
     "shell.execute_reply.started": "2023-03-25T08:41:59.972185Z"
    }
   },
   "outputs": [
    {
     "name": "stdout",
     "output_type": "stream",
     "text": [
      "result 0 appended\n",
      "result 1 appended\n",
      "result 2 appended\n",
      "result 3 appended\n",
      "result 4 appended\n"
     ]
    }
   ],
   "source": [
    "from sklearn.model_selection import StratifiedKFold\n",
    "from catboost import CatBoostClassifier\n",
    "\n",
    "skf = StratifiedKFold(n_splits = 5, random_state = 42, shuffle = True) #총 6번의 fold 진행\n",
    "\n",
    "result = []\n",
    "    \n",
    "train_x = train.drop([\"Y_Class\"], axis = 1)\n",
    "train_y = train[\"Y_Class\"]\n",
    "\n",
    "n = 0\n",
    "\n",
    "for train_index, valid_index in skf.split(train_x, train_y): #label 기준으로 stratified k fold 진행\n",
    "\n",
    "    train_X = np.array(train_x)\n",
    "    train_Y = np.array(train_y)\n",
    "\n",
    "    X_train, X_valid = train_X[train_index], train_X[valid_index]\n",
    "    y_train, y_valid = train_Y[train_index], train_Y[valid_index]\n",
    "\n",
    "    model = CatBoostClassifier(iterations=1000,\n",
    "                               random_seed=42,\n",
    "                               learning_rate=0.1,\n",
    "                               max_depth=5,\n",
    "                               grow_policy=\"Depthwise\",\n",
    "                               verbose=0,\n",
    "                               task_type=\"GPU\")\n",
    "\n",
    "    summary = model.select_features(\n",
    "        X = X_train,\n",
    "        y = y_train,\n",
    "        features_for_select = '0-2876',\n",
    "        eval_set=(X_valid, y_valid),\n",
    "        num_features_to_select=300,\n",
    "        steps=50,\n",
    "        train_final_model=False,\n",
    "        logging_level='Silent',\n",
    "        plot=False\n",
    "    )\n",
    "\n",
    "    result.append(summary['selected_features'])\n",
    "\n",
    "    print(\"result\", n, \"appended\")\n",
    "    n += 1"
   ]
  },
  {
   "cell_type": "code",
   "execution_count": 25,
   "id": "c1e34994-b191-4bb4-8fec-ff2b974819c0",
   "metadata": {
    "execution": {
     "iopub.execute_input": "2023-03-25T09:42:45.769650Z",
     "iopub.status.busy": "2023-03-25T09:42:45.769105Z",
     "iopub.status.idle": "2023-03-25T09:42:45.776548Z",
     "shell.execute_reply": "2023-03-25T09:42:45.775296Z",
     "shell.execute_reply.started": "2023-03-25T09:42:45.769618Z"
    }
   },
   "outputs": [],
   "source": [
    "result = np.array(result)\n",
    "np.save('numpy_selected_feature_5fold_original_300', result)"
   ]
  }
 ],
 "metadata": {
  "kernelspec": {
   "display_name": "Python 3 (ipykernel)",
   "language": "python",
   "name": "python3"
  },
  "language_info": {
   "codemirror_mode": {
    "name": "ipython",
    "version": 3
   },
   "file_extension": ".py",
   "mimetype": "text/x-python",
   "name": "python",
   "nbconvert_exporter": "python",
   "pygments_lexer": "ipython3",
   "version": "3.9.16"
  }
 },
 "nbformat": 4,
 "nbformat_minor": 5
}
