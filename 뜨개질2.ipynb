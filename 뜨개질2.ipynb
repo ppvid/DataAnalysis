{
 "cells": [
  {
   "cell_type": "code",
   "execution_count": 20,
   "id": "25479c90",
   "metadata": {},
   "outputs": [
    {
     "name": "stdout",
     "output_type": "stream",
     "text": [
      "✅ sample_patterns.json 파일 저장 완료\n"
     ]
    }
   ],
   "source": [
    "import requests\n",
    "import json\n",
    "from requests.auth import HTTPBasicAuth\n",
    "\n",
    "username = \"read-3687935da6ba7c8f1fe64bb57b2ba3b9\"\n",
    "password = \"MkSU5/rFvhzGuuO36Vgo2DkP5L4AIVXmommL3gkh\"\n",
    "\n",
    "all_patterns = []\n",
    "\n",
    "for page in range(1, 6):  # 500개 정도 수집\n",
    "    url = \"https://api.ravelry.com/patterns/search.json\"\n",
    "    params = {\n",
    "        \"craft\": \"knitting\",\n",
    "        \"pattern_type\": \"sweater\",\n",
    "        \"page\": page,\n",
    "        \"page_size\": 100\n",
    "    }\n",
    "    resp = requests.get(url, auth=HTTPBasicAuth(username, password), params=params)\n",
    "    if resp.status_code != 200:\n",
    "        print(f\"❌ Page {page} failed: {resp.status_code}\")\n",
    "        continue\n",
    "    data = resp.json().get(\"patterns\", [])\n",
    "    all_patterns.extend(data)\n",
    "\n",
    "# JSON 파일로 저장\n",
    "with open(\"sample_patterns.json\", \"w\", encoding=\"utf-8\") as f:\n",
    "    json.dump({\"patterns\": all_patterns}, f, ensure_ascii=False, indent=2)\n",
    "\n",
    "print(\"✅ sample_patterns.json 파일 저장 완료\")\n"
   ]
  }
 ],
 "metadata": {
  "kernelspec": {
   "display_name": "base",
   "language": "python",
   "name": "python3"
  },
  "language_info": {
   "codemirror_mode": {
    "name": "ipython",
    "version": 3
   },
   "file_extension": ".py",
   "mimetype": "text/x-python",
   "name": "python",
   "nbconvert_exporter": "python",
   "pygments_lexer": "ipython3",
   "version": "3.12.7"
  }
 },
 "nbformat": 4,
 "nbformat_minor": 5
}
